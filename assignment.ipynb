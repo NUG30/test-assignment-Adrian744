{
  "nbformat": 4,
  "nbformat_minor": 0,
  "metadata": {
    "colab": {
      "name": "assignment.ipynb",
      "provenance": []
    },
    "kernelspec": {
      "name": "python3",
      "display_name": "Python 3"
    }
  },
  "cells": [
    {
      "cell_type": "markdown",
      "metadata": {
        "id": "MzlSYDFacuFX"
      },
      "source": [
        "# Homework 0: Welcome to Mathematics for Machine Learning\n",
        "This assignment serves to help you get familiar with GitHub and Google Colab, as well as a few basic Python commands."
      ]
    },
    {
      "cell_type": "markdown",
      "metadata": {
        "id": "UClseA-clc7w"
      },
      "source": [
        "## Part 0: Open the assignment\n",
        "If you are viewing this assignment from GitHub, open it in Google Colab. There are many ways to do it:\n",
        "\n",
        "* find out the address (URL) of this notebook on GitHub (for example, you can copy it from the address bar of your browse) and change the URL. If the URL of your notebook is  https://github.com/foo/bar/blob/master/assignment.ipynb, then the Colab link to it is: https://colab.research.google.com/github/foo/bar/blob/master/colab-github-demo.ipynb;\n",
        "* if you are using Chrome, then installing the [Open in Colab](https://chrome.google.com/webstore/detail/open-in-colab/iogfkhleblhcpcekbiedikdehleodpjo) extension would allow you to open this notebook in Colab in just one click;\n",
        "* go to [this page](https://colab.research.google.com/github/), find the homework repository that was created for you, and open `assignment.ipynb` in Colab.\n",
        "\n",
        "The rest of this assignment assumes that you are viewing it in Colab. If you are familiar with IPython notebooks, you may also use another tool to complete this assignment, although this method would not be supported by the course staff."
      ]
    },
    {
      "cell_type": "markdown",
      "metadata": {
        "id": "hAA1KHHalew1"
      },
      "source": [
        "## Part 1: Entering Text in Google Colab\n",
        "In the next part of this assignment, you will learn to enter some text in Google Colab. To enter text, you must be in a text cell. Click on the \"+Text\" button at the top left of the page to create a text cell, and drag it to the desired position if needed.\n",
        "\n",
        "Text in the Colab is formatted using a markup language called Markdown. Google provides a brief [tutorial of Markdown](https://colab.research.google.com/notebooks/markdown_guide.ipynb) here. If you are already familiar with Markdown, you don't have to read this tutorial; if not, please take some time to familiarize yourself with Markdown. \n",
        "\n",
        "You can also use LaTeX to typeset mathematical equations in Colab if you enclose the LaTeX code in `$ $` (if you want to enter an equation in the middle of a line) or `$$ $$` (if you want the equation to be displayed on its own line). For example, `$x^2 + 3\\sqrt{x}$` is displayed as $x^2 + 3\\sqrt{x}$. There are a lot of LaTeX tutorials online and we do not give one for this reason; just a Google search would find you many of them.\n",
        "\n",
        "To help you familiarize yourself with Markdown and LaTeX, we give out two tasks that involve entering text using Markdown and LaTeX."
      ]
    },
    {
      "cell_type": "markdown",
      "metadata": {
        "id": "Y6NhypN7nWlj"
      },
      "source": [
        "### Task 1\n",
        "Create a text cell right below here, and introduce yourself in the text cell. The introduction must be formatted as a bulleted list, and should contain at the very least your name, major, year and email. "
      ]
    },
    {
      "cell_type": "markdown",
      "metadata": {
        "id": "erkl2lcR-uWX"
      },
      "source": [
        "* Adrian Westphal\n",
        "* Computer Science(year 3)\n",
        "* adrianwestphal16@gmail.com"
      ]
    },
    {
      "cell_type": "markdown",
      "metadata": {
        "id": "61UsGUzanXc1"
      },
      "source": [
        "### Task 2\n",
        "Create a text cell right below here, and type the [quadratic formula](https://en.wikipedia.org/wiki/Quadratic_formula) in LaTeX. Make sure it displays correctly."
      ]
    },
    {
      "cell_type": "markdown",
      "metadata": {
        "id": "8IVbmq-4KxVO"
      },
      "source": [
        "$ x = \\frac {-b \\pm \\sqrt{b^2 -4ac}} {2a} $"
      ]
    },
    {
      "cell_type": "markdown",
      "metadata": {
        "id": "FgNnUhRYom_-"
      },
      "source": [
        "# Part 2: Basic Python\n",
        "This part of the assignment is designed to help you learn some basic Python. You can find a basic inttroduction to Python here: http://cs229.stanford.edu/notes2020fall/notes2020fall/Fall_2020_Notebook.html\n",
        "\n",
        "The graph, which appeared in the lecture was created with the following code:"
      ]
    },
    {
      "cell_type": "code",
      "metadata": {
        "id": "czLtrSi9z4Ev",
        "outputId": "9dac1914-173d-4107-a0c7-945ae55db843",
        "colab": {
          "base_uri": "https://localhost:8080/",
          "height": 633
        }
      },
      "source": [
        "import numpy as np\n",
        "import random\n",
        "from matplotlib import pyplot as plt\n",
        "\n",
        "\n",
        "\n",
        "#creating a function which returns a random array without duplicates\n",
        "# length = the length of the array\n",
        "# minValue = the minValue of each element for the array\n",
        "# maxvalue= the maxValue of each element for the array\n",
        "def createRandomArray(length, minValue,maxValue):\n",
        "  #creating a empty  array\n",
        "  array = []\n",
        "  #looping until the array has the length of i \n",
        "  #because the array has the length of 0 at the beginning we need to stop at length-1\n",
        "  while len(array) < length : \n",
        "    #creating a random number in the range of minValue to maxValue\n",
        "    randomNumber = random.randint(minValue,maxValue)\n",
        "    #if the number is not in the array, we will add the number to the array. \n",
        "    #That is for not having duplicates\n",
        "    if randomNumber not in array :\n",
        "       array.append(randomNumber)\n",
        "  return array\n",
        "\n",
        "def maxValue(array) :\n",
        "  #The plan is to sort the array, and then returning the last element\n",
        "  arrayDuplicate=array.copy()\n",
        "  arrayDuplicate.sort()\n",
        "  return arrayDuplicate[len(array)-1]\n",
        "\n",
        "# x = np.array([2, 7, 13, 16, 22, 27])\n",
        "#creating random minValue between 0 and 100\n",
        "randomMinValue = random.randint(0,100)\n",
        "print(\"Value of randomMinValue : \"+str(randomMinValue))\n",
        "#creating a random maxValue between minValue+1 and 101\n",
        "randomMaxValue = random.randint(randomMinValue+1,101)\n",
        "print(\"Value of randomMaxValue : \"+str(randomMaxValue))\n",
        "#creating a \"random\" arrayLength which fits the condition of maxValue-minValue+1<arrayLength\n",
        "maximumArrayLength= randomMaxValue-randomMinValue+1\n",
        "randomArrayLength= random.randint(1,maximumArrayLength)\n",
        "print(\"Value of randomArrayLength : \"+str(randomArrayLength))\n",
        "x= createRandomArray(randomArrayLength,randomMinValue,randomMaxValue)\n",
        "#sorting the array for being able to draw a nice graph\n",
        "x.sort()\n",
        "print(\"Value of x : \",str(x))\n",
        "# y = np.array([5, 20, 14, 32, 22, 38])\n",
        "y= createRandomArray(randomArrayLength,randomMinValue,randomMaxValue)\n",
        "print(\"Value of y : \",str(y))\n",
        "#getting the maxium value of y\n",
        "maxYValue= maxValue(y)\n",
        "#getting the index of the maxiumYValue\n",
        "yIndex= y.index(maxYValue)\n",
        "#getting the x - coordinate of yIndex\n",
        "xIndex=x[yIndex]\n",
        "print(\"Value of xIndex\"+str(xIndex))\n",
        "print(\"Value of maxYValue\"+str(maxYValue))\n",
        "#plt.annotate('Maximum of Tebasaki eaten', xy=(xIndex, maxYValue), xytext=(xIndex, maxYValue+1.5),\n",
        "     #        arrowprops=dict(facecolor='black', shrink=0.05),\n",
        "      #       )\n",
        "\n",
        "plt.figure(figsize=(10,8))\n",
        "plt.plot(x,y,'X')\n",
        "plt.plot(x,y)\n",
        "plt.xlabel(\"Weeks living in Nagoya\", fontsize=18)\n",
        "plt.ylabel(\"Tebasaki eaten\", fontsize=18)\n",
        "#Calculating the difference between minXValue and maxXValue for drawing nie annnotations\n",
        "maxXdifference=x[len(x)-1]-x[0]\n",
        "if maxXdifference < 5:\n",
        "  plt.annotate('Most Tebasakis eaten', xy=(xIndex, maxYValue), xytext=(xIndex+0.2, maxYValue+0.2),\n",
        "             arrowprops=dict(facecolor='black', shrink=0.05),\n",
        "             )\n",
        "elif maxXdifference >20 : \n",
        "  plt.annotate('Most Tebasakis eaten', xy=(xIndex, maxYValue), xytext=(xIndex+1, maxYValue+1),\n",
        "             arrowprops=dict(facecolor='black', shrink=0.05),\n",
        "             )\n",
        "else : \n",
        "    plt.annotate('Most Tebasakis eaten', xy=(xIndex, maxYValue), xytext=(xIndex+1, maxYValue+0.5),\n",
        "             arrowprops=dict(facecolor='black', shrink=0.05),\n",
        "             )\n",
        "\n",
        "\n",
        "plt.show()"
      ],
      "execution_count": 51,
      "outputs": [
        {
          "output_type": "stream",
          "text": [
            "Value of randomMinValue : 70\n",
            "Value of randomMaxValue : 81\n",
            "Value of randomArrayLength : 9\n",
            "Value of x :  [70, 72, 73, 74, 76, 77, 78, 79, 80]\n",
            "Value of y :  [73, 77, 72, 79, 75, 74, 80, 81, 78]\n",
            "Value of xIndex79\n",
            "Value of maxYValue81\n"
          ],
          "name": "stdout"
        },
        {
          "output_type": "display_data",
          "data": {
            "image/png": "[encoded data removed]",
            "text/plain": [
              "<Figure size 720x576 with 1 Axes>"
            ]
          },
          "metadata": {
            "tags": [],
            "needs_background": "light"
          }
        }
      ]
    },
    {
      "cell_type": "markdown",
      "metadata": {
        "id": "cqbRGan-z6ku"
      },
      "source": [
        "Execute the above code (by clicking on the top left \"Play button\") and try to change the code a bit. Maybe try to create random inputs for x and y, change the optics of the graph (google \"pyplot\"), etc."
      ]
    },
    {
      "cell_type": "markdown",
      "metadata": {
        "id": "09w-Ml7Lovpl"
      },
      "source": [
        "# Submitting the assignment\n",
        "Go to **File→Save a copy to GitHub** and save the completed assignment in the homework repository created for you (i.e., the repository where you opened this homework from). Do not change the file name."
      ]
    }
  ]
}